{
 "cells": [
  {
   "cell_type": "markdown",
   "metadata": {},
   "source": [
    "<h1 align='center'>DIABETES PREDICTION WITH ENSEMBLE METHODS</h1>"
   ]
  },
  {
   "cell_type": "markdown",
   "metadata": {},
   "source": [
    "# Important Libraries"
   ]
  },
  {
   "cell_type": "markdown",
   "metadata": {},
   "source": [
    "Pandas: https://pandas.pydata.org/docs/user_guide/index.html\n",
    "\n",
    "Numpy: https://numpy.org/devdocs/user/quickstart.html\n",
    "\n",
    "sklearn: https://scikit-learn.org\n",
    "\n",
    "Collections: https://www.guru99.com/python-counter-collections-example.html\n",
    "\n",
    "Seaborn: https://seaborn.pydata.org/tutorial/introduction.html#:~:text=Seaborn%20is%20a%20library%20for,explore%20and%20understand%20your%20data."
   ]
  },
  {
   "cell_type": "code",
   "execution_count": 1,
   "metadata": {},
   "outputs": [],
   "source": [
    "import pandas as pd #data structures and functions\n",
    "import numpy as np #support for arrays and mathematical functions\n",
    "\n",
    "from sklearn.linear_model import LogisticRegression #model for binary classification and regression\n",
    "from sklearn.tree import DecisionTreeClassifier #decision trees for classification\n",
    "from sklearn.ensemble import AdaBoostClassifier #boosting model\n",
    "from sklearn.metrics import confusion_matrix #function to compute a confusion matrix\n",
    "from collections import Counter #class for counting\n",
    "\n",
    "import matplotlib.pyplot as plt #plotting library for visualizations\n",
    "import seaborn as sns #data visualization library based on Matplotlib"
   ]
  },
  {
   "cell_type": "markdown",
   "metadata": {},
   "source": [
    "# Load and Understand the Data"
   ]
  },
  {
   "cell_type": "markdown",
   "metadata": {},
   "source": [
    "Dataset: https://www.kaggle.com/gargmanas/pima-indians-diabetes"
   ]
  },
  {
   "cell_type": "code",
   "execution_count": 10,
   "metadata": {},
   "outputs": [],
   "source": [
    "df = pd.read_csv(\"diabetes1.csv\")"
   ]
  },
  {
   "cell_type": "code",
   "execution_count": 11,
   "metadata": {},
   "outputs": [
    {
     "data": {
      "text/plain": [
       "768"
      ]
     },
     "execution_count": 11,
     "metadata": {},
     "output_type": "execute_result"
    }
   ],
   "source": [
    "df = df.dropna()\n",
    "len(df)"
   ]
  },
  {
   "cell_type": "code",
   "execution_count": 12,
   "metadata": {},
   "outputs": [
    {
     "data": {
      "text/plain": [
       "768"
      ]
     },
     "execution_count": 12,
     "metadata": {},
     "output_type": "execute_result"
    }
   ],
   "source": [
    "df = df.drop_duplicates()\n",
    "len(df)"
   ]
  },
  {
   "cell_type": "markdown",
   "metadata": {},
   "source": [
    "Display basic info about the dataset"
   ]
  },
  {
   "cell_type": "code",
   "execution_count": 13,
   "metadata": {},
   "outputs": [
    {
     "name": "stdout",
     "output_type": "stream",
     "text": [
      "<class 'pandas.core.frame.DataFrame'>\n",
      "Int64Index: 768 entries, 0 to 767\n",
      "Data columns (total 9 columns):\n",
      " #   Column                    Non-Null Count  Dtype  \n",
      "---  ------                    --------------  -----  \n",
      " 0   Pregnancies               768 non-null    int64  \n",
      " 1   Glucose                   768 non-null    int64  \n",
      " 2   BloodPressure             768 non-null    int64  \n",
      " 3   SkinThickness             768 non-null    int64  \n",
      " 4   Insulin                   768 non-null    int64  \n",
      " 5   BMI                       768 non-null    float64\n",
      " 6   DiabetesPedigreeFunction  768 non-null    float64\n",
      " 7   Age                       768 non-null    int64  \n",
      " 8   target                    768 non-null    int64  \n",
      "dtypes: float64(2), int64(7)\n",
      "memory usage: 60.0 KB\n",
      "None\n"
     ]
    }
   ],
   "source": [
    "print(df.info())"
   ]
  },
  {
   "cell_type": "code",
   "execution_count": 14,
   "metadata": {},
   "outputs": [
    {
     "name": "stdout",
     "output_type": "stream",
     "text": [
      "   Pregnancies  Glucose  BloodPressure  SkinThickness  Insulin   BMI  \\\n",
      "0            6      148             72             35        0  33.6   \n",
      "1            1       85             66             29        0  26.6   \n",
      "2            8      183             64              0        0  23.3   \n",
      "3            1       89             66             23       94  28.1   \n",
      "4            0      137             40             35      168  43.1   \n",
      "\n",
      "   DiabetesPedigreeFunction  Age  target  \n",
      "0                     0.627   50       1  \n",
      "1                     0.351   31       0  \n",
      "2                     0.672   32       1  \n",
      "3                     0.167   21       0  \n",
      "4                     2.288   33       1  \n"
     ]
    }
   ],
   "source": [
    "print(df.head())"
   ]
  },
  {
   "cell_type": "code",
   "execution_count": 15,
   "metadata": {},
   "outputs": [
    {
     "name": "stdout",
     "output_type": "stream",
     "text": [
      "Index(['Pregnancies', 'Glucose', 'BloodPressure', 'SkinThickness', 'Insulin',\n",
      "       'BMI', 'DiabetesPedigreeFunction', 'Age', 'target'],\n",
      "      dtype='object')\n"
     ]
    }
   ],
   "source": [
    "print(df.columns)"
   ]
  },
  {
   "cell_type": "code",
   "execution_count": 16,
   "metadata": {},
   "outputs": [
    {
     "data": {
      "text/plain": [
       "Pregnancies                 0\n",
       "Glucose                     0\n",
       "BloodPressure               0\n",
       "SkinThickness               0\n",
       "Insulin                     0\n",
       "BMI                         0\n",
       "DiabetesPedigreeFunction    0\n",
       "Age                         0\n",
       "target                      0\n",
       "dtype: int64"
      ]
     },
     "execution_count": 16,
     "metadata": {},
     "output_type": "execute_result"
    }
   ],
   "source": [
    "df.isnull().sum()"
   ]
  },
  {
   "cell_type": "code",
   "execution_count": 17,
   "metadata": {
    "scrolled": true
   },
   "outputs": [
    {
     "data": {
      "text/html": [
       "<div>\n",
       "<style scoped>\n",
       "    .dataframe tbody tr th:only-of-type {\n",
       "        vertical-align: middle;\n",
       "    }\n",
       "\n",
       "    .dataframe tbody tr th {\n",
       "        vertical-align: top;\n",
       "    }\n",
       "\n",
       "    .dataframe thead th {\n",
       "        text-align: right;\n",
       "    }\n",
       "</style>\n",
       "<table border=\"1\" class=\"dataframe\">\n",
       "  <thead>\n",
       "    <tr style=\"text-align: right;\">\n",
       "      <th></th>\n",
       "      <th>Pregnancies</th>\n",
       "      <th>Glucose</th>\n",
       "      <th>BloodPressure</th>\n",
       "      <th>SkinThickness</th>\n",
       "      <th>Insulin</th>\n",
       "      <th>BMI</th>\n",
       "      <th>DiabetesPedigreeFunction</th>\n",
       "      <th>Age</th>\n",
       "      <th>target</th>\n",
       "    </tr>\n",
       "  </thead>\n",
       "  <tbody>\n",
       "    <tr>\n",
       "      <th>count</th>\n",
       "      <td>768.000000</td>\n",
       "      <td>768.000000</td>\n",
       "      <td>768.000000</td>\n",
       "      <td>768.000000</td>\n",
       "      <td>768.000000</td>\n",
       "      <td>768.000000</td>\n",
       "      <td>768.000000</td>\n",
       "      <td>768.000000</td>\n",
       "      <td>768.000000</td>\n",
       "    </tr>\n",
       "    <tr>\n",
       "      <th>mean</th>\n",
       "      <td>3.845052</td>\n",
       "      <td>120.894531</td>\n",
       "      <td>69.105469</td>\n",
       "      <td>20.536458</td>\n",
       "      <td>79.799479</td>\n",
       "      <td>31.992578</td>\n",
       "      <td>0.471876</td>\n",
       "      <td>33.240885</td>\n",
       "      <td>0.348958</td>\n",
       "    </tr>\n",
       "    <tr>\n",
       "      <th>std</th>\n",
       "      <td>3.369578</td>\n",
       "      <td>31.972618</td>\n",
       "      <td>19.355807</td>\n",
       "      <td>15.952218</td>\n",
       "      <td>115.244002</td>\n",
       "      <td>7.884160</td>\n",
       "      <td>0.331329</td>\n",
       "      <td>11.760232</td>\n",
       "      <td>0.476951</td>\n",
       "    </tr>\n",
       "    <tr>\n",
       "      <th>min</th>\n",
       "      <td>0.000000</td>\n",
       "      <td>0.000000</td>\n",
       "      <td>0.000000</td>\n",
       "      <td>0.000000</td>\n",
       "      <td>0.000000</td>\n",
       "      <td>0.000000</td>\n",
       "      <td>0.078000</td>\n",
       "      <td>21.000000</td>\n",
       "      <td>0.000000</td>\n",
       "    </tr>\n",
       "    <tr>\n",
       "      <th>25%</th>\n",
       "      <td>1.000000</td>\n",
       "      <td>99.000000</td>\n",
       "      <td>62.000000</td>\n",
       "      <td>0.000000</td>\n",
       "      <td>0.000000</td>\n",
       "      <td>27.300000</td>\n",
       "      <td>0.243750</td>\n",
       "      <td>24.000000</td>\n",
       "      <td>0.000000</td>\n",
       "    </tr>\n",
       "    <tr>\n",
       "      <th>50%</th>\n",
       "      <td>3.000000</td>\n",
       "      <td>117.000000</td>\n",
       "      <td>72.000000</td>\n",
       "      <td>23.000000</td>\n",
       "      <td>30.500000</td>\n",
       "      <td>32.000000</td>\n",
       "      <td>0.372500</td>\n",
       "      <td>29.000000</td>\n",
       "      <td>0.000000</td>\n",
       "    </tr>\n",
       "    <tr>\n",
       "      <th>75%</th>\n",
       "      <td>6.000000</td>\n",
       "      <td>140.250000</td>\n",
       "      <td>80.000000</td>\n",
       "      <td>32.000000</td>\n",
       "      <td>127.250000</td>\n",
       "      <td>36.600000</td>\n",
       "      <td>0.626250</td>\n",
       "      <td>41.000000</td>\n",
       "      <td>1.000000</td>\n",
       "    </tr>\n",
       "    <tr>\n",
       "      <th>max</th>\n",
       "      <td>17.000000</td>\n",
       "      <td>199.000000</td>\n",
       "      <td>122.000000</td>\n",
       "      <td>99.000000</td>\n",
       "      <td>846.000000</td>\n",
       "      <td>67.100000</td>\n",
       "      <td>2.420000</td>\n",
       "      <td>81.000000</td>\n",
       "      <td>1.000000</td>\n",
       "    </tr>\n",
       "  </tbody>\n",
       "</table>\n",
       "</div>"
      ],
      "text/plain": [
       "       Pregnancies     Glucose  BloodPressure  SkinThickness     Insulin  \\\n",
       "count   768.000000  768.000000     768.000000     768.000000  768.000000   \n",
       "mean      3.845052  120.894531      69.105469      20.536458   79.799479   \n",
       "std       3.369578   31.972618      19.355807      15.952218  115.244002   \n",
       "min       0.000000    0.000000       0.000000       0.000000    0.000000   \n",
       "25%       1.000000   99.000000      62.000000       0.000000    0.000000   \n",
       "50%       3.000000  117.000000      72.000000      23.000000   30.500000   \n",
       "75%       6.000000  140.250000      80.000000      32.000000  127.250000   \n",
       "max      17.000000  199.000000     122.000000      99.000000  846.000000   \n",
       "\n",
       "              BMI  DiabetesPedigreeFunction         Age      target  \n",
       "count  768.000000                768.000000  768.000000  768.000000  \n",
       "mean    31.992578                  0.471876   33.240885    0.348958  \n",
       "std      7.884160                  0.331329   11.760232    0.476951  \n",
       "min      0.000000                  0.078000   21.000000    0.000000  \n",
       "25%     27.300000                  0.243750   24.000000    0.000000  \n",
       "50%     32.000000                  0.372500   29.000000    0.000000  \n",
       "75%     36.600000                  0.626250   41.000000    1.000000  \n",
       "max     67.100000                  2.420000   81.000000    1.000000  "
      ]
     },
     "execution_count": 17,
     "metadata": {},
     "output_type": "execute_result"
    }
   ],
   "source": [
    "df.describe()"
   ]
  },
  {
   "cell_type": "markdown",
   "metadata": {},
   "source": [
    " classes are balanced or imbalanced"
   ]
  },
  {
   "cell_type": "code",
   "execution_count": 18,
   "metadata": {},
   "outputs": [
    {
     "name": "stdout",
     "output_type": "stream",
     "text": [
      "0    500\n",
      "1    268\n",
      "Name: target, dtype: int64\n"
     ]
    }
   ],
   "source": [
    "class_distribution = df['target'].value_counts()\n",
    "print(class_distribution)"
   ]
  },
  {
   "cell_type": "markdown",
   "metadata": {},
   "source": [
    "# Data Visualization"
   ]
  },
  {
   "cell_type": "markdown",
   "metadata": {},
   "source": [
    "Histograms and Distributions: https://matplotlib.org/stable/api/_as_gen/matplotlib.pyplot.hist.html"
   ]
  },
  {
   "cell_type": "code",
   "execution_count": 19,
   "metadata": {},
   "outputs": [
    {
     "data": {
      "image/png": "[encoded data removed]",
      "text/plain": [
       "<Figure size 720x576 with 9 Axes>"
      ]
     },
     "metadata": {
      "needs_background": "light"
     },
     "output_type": "display_data"
    }
   ],
   "source": [
    "df.hist(figsize=(10, 8), bins=20)\n",
    "plt.tight_layout()\n",
    "plt.show()"
   ]
  },
  {
   "cell_type": "markdown",
   "metadata": {},
   "source": [
    "Correlation Matrix: https://pandas.pydata.org/docs/reference/api/pandas.DataFrame.corr.html"
   ]
  },
  {
   "cell_type": "code",
   "execution_count": 20,
   "metadata": {},
   "outputs": [
    {
     "data": {
      "image/png": "[encoded data removed]",
      "text/plain": [
       "<Figure size 576x360 with 2 Axes>"
      ]
     },
     "metadata": {
      "needs_background": "light"
     },
     "output_type": "display_data"
    }
   ],
   "source": [
    "correlation_matrix = df.corr()\n",
    "plt.figure(figsize=(8, 5))\n",
    "sns.heatmap(correlation_matrix, annot=True, cmap=\"coolwarm\")\n",
    "plt.show()"
   ]
  },
  {
   "cell_type": "markdown",
   "metadata": {},
   "source": [
    "Box Plots: https://matplotlib.org/stable/api/_as_gen/matplotlib.pyplot.boxplot.html"
   ]
  },
  {
   "cell_type": "code",
   "execution_count": 21,
   "metadata": {},
   "outputs": [
    {
     "data": {
      "image/png": "[encoded data removed]",
      "text/plain": [
       "<Figure size 360x360 with 1 Axes>"
      ]
     },
     "metadata": {
      "needs_background": "light"
     },
     "output_type": "display_data"
    },
    {
     "data": {
      "image/png": "[encoded data removed]",
      "text/plain": [
       "<Figure size 360x360 with 1 Axes>"
      ]
     },
     "metadata": {
      "needs_background": "light"
     },
     "output_type": "display_data"
    },
    {
     "data": {
      "image/png": "[encoded data removed]",
      "text/plain": [
       "<Figure size 360x360 with 1 Axes>"
      ]
     },
     "metadata": {
      "needs_background": "light"
     },
     "output_type": "display_data"
    },
    {
     "data": {
      "image/png": "[encoded data removed]",
      "text/plain": [
       "<Figure size 360x360 with 1 Axes>"
      ]
     },
     "metadata": {
      "needs_background": "light"
     },
     "output_type": "display_data"
    },
    {
     "data": {
      "image/png": "[encoded data removed]",
      "text/plain": [
       "<Figure size 360x360 with 1 Axes>"
      ]
     },
     "metadata": {
      "needs_background": "light"
     },
     "output_type": "display_data"
    },
    {
     "data": {
      "image/png": "[encoded data removed]",
      "text/plain": [
       "<Figure size 360x360 with 1 Axes>"
      ]
     },
     "metadata": {
      "needs_background": "light"
     },
     "output_type": "display_data"
    },
    {
     "data": {
      "image/png": "[encoded data removed]",
      "text/plain": [
       "<Figure size 360x360 with 1 Axes>"
      ]
     },
     "metadata": {
      "needs_background": "light"
     },
     "output_type": "display_data"
    },
    {
     "data": {
      "image/png": "[encoded data removed]",
      "text/plain": [
       "<Figure size 360x360 with 1 Axes>"
      ]
     },
     "metadata": {
      "needs_background": "light"
     },
     "output_type": "display_data"
    }
   ],
   "source": [
    "data1 = df.drop(\"target\",axis=\"columns\")\n",
    "y1 = df.target\n",
    "for i in data1.columns:\n",
    "    plt.figure(figsize=(5, 5))\n",
    "    sns.boxplot(x=y1, y=i, data=data1)\n",
    "    plt.tight_layout()\n",
    "    plt.show()"
   ]
  },
  {
   "cell_type": "markdown",
   "metadata": {},
   "source": [
    "There is slight imbalance in our dataset but since it is not major we will not worry about it!"
   ]
  },
  {
   "cell_type": "markdown",
   "metadata": {},
   "source": [
    "<h3>Train test split</h3>"
   ]
  },
  {
   "cell_type": "code",
   "execution_count": 22,
   "metadata": {},
   "outputs": [],
   "source": [
    "X = df.drop(\"target\",axis=\"columns\")\n",
    "y = df.target"
   ]
  },
  {
   "cell_type": "markdown",
   "metadata": {},
   "source": [
    "Scaling data using standard scalar: https://scikit-learn.org/stable/modules/generated/sklearn.preprocessing.StandardScaler.html"
   ]
  },
  {
   "cell_type": "code",
   "execution_count": 23,
   "metadata": {},
   "outputs": [
    {
     "data": {
      "text/plain": [
       "array([[ 0.63994726,  0.84832379,  0.14964075,  0.90726993, -0.69289057,\n",
       "         0.20401277,  0.46849198,  1.4259954 ],\n",
       "       [-0.84488505, -1.12339636, -0.16054575,  0.53090156, -0.69289057,\n",
       "        -0.68442195, -0.36506078, -0.19067191],\n",
       "       [ 1.23388019,  1.94372388, -0.26394125, -1.28821221, -0.69289057,\n",
       "        -1.10325546,  0.60439732, -0.10558415]])"
      ]
     },
     "execution_count": 23,
     "metadata": {},
     "output_type": "execute_result"
    }
   ],
   "source": [
    "from sklearn.preprocessing import StandardScaler #standerdization process\n",
    "\n",
    "scaler = StandardScaler()\n",
    "X_scaled = scaler.fit_transform(X)\n",
    "X_scaled[:3]"
   ]
  },
  {
   "cell_type": "markdown",
   "metadata": {},
   "source": [
    "Splitting Data for training and testing: https://scikit-learn.org/stable/modules/generated/sklearn.model_selection.train_test_split.html"
   ]
  },
  {
   "cell_type": "code",
   "execution_count": 24,
   "metadata": {},
   "outputs": [],
   "source": [
    "from sklearn.model_selection import train_test_split  #splitting dataset \n",
    "X_train1, X_test1, y_train, y_test = train_test_split(X_scaled, y, random_state=10)"
   ]
  },
  {
   "cell_type": "markdown",
   "metadata": {},
   "source": [
    "Feature Selection: https://scikit-learn.org/stable/modules/feature_selection.html"
   ]
  },
  {
   "cell_type": "code",
   "execution_count": 25,
   "metadata": {},
   "outputs": [],
   "source": [
    "from sklearn.feature_selection import SelectKBest, f_classif #for selecting more important features\n",
    "num_features_to_select = 5\n",
    "selector = SelectKBest(score_func=f_classif, k=num_features_to_select)\n",
    "X_train = selector.fit_transform(X_train1, y_train)\n",
    "X_test = selector.transform(X_test1)"
   ]
  },
  {
   "cell_type": "markdown",
   "metadata": {},
   "source": [
    "# K-NN classifier function"
   ]
  },
  {
   "cell_type": "code",
   "execution_count": 26,
   "metadata": {},
   "outputs": [],
   "source": [
    "def euclidean_distance(p1, p2):  #Euclidean Distance function\n",
    "    return sum((a - b) ** 2 for a, b in zip(p1, p2)) ** 0.5 #square root of squared distance\n",
    "\n",
    "def knn1(train_data, labels, test_data, k): #KNN predictor function\n",
    "    distances = [(euclidean_distance(test_data, data_point), label) for data_point, label in zip(train_data, labels)] \n",
    "    sorted_distances = sorted(distances, key=lambda x: x[0]) #Sort the list of distances\n",
    "    k_near_neighbors = sorted_distances[:k]  # K nearest points\n",
    "    label_cnts = {} \n",
    "    label_cnts = Counter(k_near_neighbors)\n",
    "    return label_cnts.most_common(1)[0][0]"
   ]
  },
  {
   "cell_type": "markdown",
   "metadata": {},
   "source": [
    "# Bagging Function"
   ]
  },
  {
   "cell_type": "markdown",
   "metadata": {},
   "source": [
    "Ensemble methods Bagging: https://scikit-learn.org/stable/modules/ensemble.html"
   ]
  },
  {
   "cell_type": "code",
   "execution_count": 27,
   "metadata": {},
   "outputs": [],
   "source": [
    "def bagging_FUNC(X_train, X_test, y_train, estimater, n_bags):\n",
    "\n",
    "    predictions = []\n",
    "    for _ in range(n_bags):\n",
    "        # Bootstrap sample of the training data\n",
    "        index = np.random.choice(len(X_train), len(X_train), replace=True)\n",
    "        X_train_btstr = X_train[index]\n",
    "        y_train_btstr = y_train.iloc[index]\n",
    "\n",
    "        # KNN classifier on the bootstrap sample\n",
    "        if estimater>0:\n",
    "            #predicted_labels = knnsrc(X_train_btstr, y_train_btstr, X_test, estimater) \n",
    "            predicted_labels = [knn1(X_train_btstr, y_train_btstr, X_t, estimater) for X_t in X_test]\n",
    "        # LogisticRegression on the bootstrap sample\n",
    "        if estimater==0:\n",
    "            model = LogisticRegression(random_state=42)\n",
    "            # Fit the model to the training data\n",
    "            model.fit(X_train, y_train)\n",
    "            # Make predictions on the test set\n",
    "            predicted_labels = model.predict(X_test)\n",
    "            \n",
    "        predictions.append(predicted_labels)\n",
    "\n",
    "    # Aggregating predictions using majority voting\n",
    "    bagged_predictions = []\n",
    "    for i in range(len(predictions[0])):\n",
    "        labels = [predictions[j][i] for j in range(n_bags)]\n",
    "        unique_labels, label_counts = np.unique(labels, return_counts=True)\n",
    "        major_label = unique_labels[np.argmax(label_counts)]\n",
    "        bagged_predictions.append(major_label)\n",
    "    return bagged_predictions"
   ]
  },
  {
   "cell_type": "markdown",
   "metadata": {},
   "source": [
    "# MAIN "
   ]
  },
  {
   "cell_type": "markdown",
   "metadata": {},
   "source": [
    "References:\n",
    "confusion matrix: https://scikit-learn.org/stable/modules/generated/sklearn.metrics.confusion_matrix.html\n",
    "\n",
    "AdaBoost: https://scikit-learn.org/stable/modules/ensemble.html#adaboost"
   ]
  },
  {
   "cell_type": "code",
   "execution_count": 38,
   "metadata": {
    "scrolled": true
   },
   "outputs": [
    {
     "name": "stdout",
     "output_type": "stream",
     "text": [
      "\n",
      "Menu:\n",
      "1. Bagging\n",
      "2. Boosting\n",
      "3. Traditional Algorithm\n",
      "4. Comparision\n",
      "5. Exit\n",
      "Enter your choice: 4\n",
      "\n",
      " Choose compair\n",
      "1. Bagging\n",
      "2. Boosting\n",
      "\n",
      " Enter your choice: 2\n",
      "Enter number of Estimators: 50\n",
      "Enter Deapth for Decision Tree: 1\n"
     ]
    },
    {
     "data": {
      "image/png": "[encoded data removed]",
      "text/plain": [
       "<Figure size 720x432 with 1 Axes>"
      ]
     },
     "metadata": {
      "needs_background": "light"
     },
     "output_type": "display_data"
    },
    {
     "name": "stdout",
     "output_type": "stream",
     "text": [
      "\n",
      "Menu:\n",
      "1. Bagging\n",
      "2. Boosting\n",
      "3. Traditional Algorithm\n",
      "4. Comparision\n",
      "5. Exit\n",
      "Enter your choice: 5\n",
      "\n",
      "Thank You.\n"
     ]
    }
   ],
   "source": [
    "while 1:\n",
    "    print(\"\\nMenu:\")\n",
    "    print(\"1. Bagging\")\n",
    "    print(\"2. Boosting\")\n",
    "    print(\"3. Traditional Algorithm\")\n",
    "    print(\"4. Comparision\")\n",
    "    print(\"5. Exit\")\n",
    "    choice = input(\"Enter your choice: \")\n",
    "#--------------------------------------------------------------------------------------------------------------------\n",
    "#For Bagging\n",
    "    if choice == \"1\":   \n",
    "        print(\"\\nChoose base estimater\")\n",
    "        print(\"1. KNN\")\n",
    "        print(\"2. LOGESTIC\")\n",
    "        choice1 = input(\"Enter your choice: \")\n",
    "        num_bags = int(input(\"Enter number of bags: \"))\n",
    "        if choice1 == \"1\":\n",
    "            KN = int(input(\"Enter K: \"))\n",
    "            bagged_predictions = bagging_FUNC(X_train, X_test, y_train, KN, num_bags)\n",
    "            bagged_predictions = np.array(bagged_predictions)\n",
    "            bagged_predictions = bagged_predictions.astype(int)\n",
    "            # Plot the confusion matrix as a heatmap\n",
    "            cm = confusion_matrix(y_test, bagged_predictions)\n",
    "            plt.figure(figsize=(8, 6))\n",
    "            sns.heatmap(cm, annot=True, fmt=\"d\", cmap=\"Blues\", \n",
    "                        xticklabels=[\"Predicted 0\", \"Predicted 1\"],\n",
    "                        yticklabels=[\"Actual 0\", \"Actual 1\"])\n",
    "            plt.xlabel('Predicted')\n",
    "            plt.ylabel('Actual')\n",
    "            plt.title('Confusion Matrix - Bagging with k-NN')\n",
    "            plt.show()\n",
    "            accuracy = format((np.mean(bagged_predictions == y_test)*100),\".6f\")\n",
    "            print(\"\\nBagging k-NN Accuracy:\", accuracy, \"%\")\n",
    "        elif choice1 == \"2\":\n",
    "            bagged_predictions = bagging_FUNC(X_train, X_test, y_train, 0, num_bags)\n",
    "            # Plot the confusion matrix as a heatmap\n",
    "            cm = confusion_matrix(y_test, bagged_predictions)\n",
    "            plt.figure(figsize=(8, 6))\n",
    "            sns.heatmap(cm, annot=True, fmt=\"d\", cmap=\"Blues\", \n",
    "                        xticklabels=[\"Predicted 0\", \"Predicted 1\"],\n",
    "                        yticklabels=[\"Actual 0\", \"Actual 1\"])\n",
    "            plt.xlabel('Predicted')\n",
    "            plt.ylabel('Actual')\n",
    "            plt.title('Confusion Matrix - Bagging with Logestic Regression')\n",
    "            plt.show()\n",
    "            accuracy = format((np.mean(bagged_predictions == y_test)*100),\".6f\")\n",
    "            print(\"\\nBagging Logestic Accuracy:\", accuracy, \"%\")\n",
    "        else:\n",
    "            print(\"\\nInvalid choice. Please try again.\")\n",
    "\n",
    "#--------------------------------------------------------------------------------------------------------------------\n",
    "#For Boosting\n",
    "    elif choice == \"2\":   \n",
    "        print(\"\\nChoose base estimater\")\n",
    "        print(\"1. Decision Tree\")\n",
    "        print(\"2. LOGESTIC\")\n",
    "        choice1 = input(\"Enter your choice: \")\n",
    "        estimators_boost = int(input(\"Enter number of estimators: \"))\n",
    "        if choice1 == \"1\":\n",
    "            KN = int(input(\"Enter Deapth: \"))\n",
    "\n",
    "            dt_classifier = DecisionTreeClassifier(max_depth=KN)\n",
    "\n",
    "            adaboost_classifier = AdaBoostClassifier(base_estimator=dt_classifier, n_estimators=estimators_boost)\n",
    "            \n",
    "            # Train the AdaBoost classifier\n",
    "            adaboost_classifier.fit(X_train, y_train)\n",
    "\n",
    "            # Evaluate the classifier on the test data\n",
    "            accuracy = format((adaboost_classifier.score(X_test, y_test)*100),\".6f\")\n",
    "\n",
    "            print(\"\\nBoosting with Decision Tree Classifier Accuracy:\", accuracy, \"%\")\n",
    "        elif choice1 == \"2\":\n",
    "            # Create a base Logistic Regression\n",
    "            LgRegression = LogisticRegression()\n",
    "\n",
    "            # Create an AdaBoost classifier with KNN as base learner\n",
    "            adaboost_classifier = AdaBoostClassifier(base_estimator=LgRegression, n_estimators=estimators_boost)\n",
    "\n",
    "            # Train the AdaBoost classifier\n",
    "            adaboost_classifier.fit(X_train, y_train)\n",
    "\n",
    "            # Evaluate the classifier on the test data\n",
    "            accuracy = format((adaboost_classifier.score(X_test, y_test)*100),\".6f\")\n",
    "            print(\"\\nBoosting with Logestic Regression Accuracy:\", accuracy, \"%\")\n",
    "        else:\n",
    "            print(\"\\nInvalid choice. Please try again.\")\n",
    "\n",
    "#--------------------------------------------------------------------------------------------------------------------\n",
    "#Traditional Algorithms\n",
    "    elif choice == \"3\":    \n",
    "        print(\"\\n Choose estimater\")\n",
    "        print(\"1. KNN\")\n",
    "        print(\"2. LOGESTIC\")\n",
    "        print(\"3. Decision Tree\")\n",
    "        choice2 = input(\"\\n Enter your choice: \")\n",
    "        if choice2 == \"1\":\n",
    "            KKN = int(input(\"Enter K: \"))\n",
    "            predicted_labels = [knn1(X_train, y_train, d, KKN) for d in X_test]\n",
    "            predicted_labels1 =  [predicted_labels[i][1] for i in range(len(predicted_labels))]\n",
    "            # Plot the confusion matrix as a heatmap\n",
    "            cm = confusion_matrix(y_test, predicted_labels1)\n",
    "            plt.figure(figsize=(8, 6))\n",
    "            sns.heatmap(cm, annot=True, fmt=\"d\", cmap=\"Blues\", \n",
    "                        xticklabels=[\"Predicted 0\", \"Predicted 1\"],\n",
    "                        yticklabels=[\"Actual 0\", \"Actual 1\"])\n",
    "            plt.xlabel('Predicted')\n",
    "            plt.ylabel('Actual')\n",
    "            plt.title('Confusion Matrix - k-NN')\n",
    "            plt.show()\n",
    "                 \n",
    "            accuracy = format((np.mean(predicted_labels1 == y_test)*100),\".6f\")\n",
    "            print(\"\\nTraditional k-NN Accuracy:\", accuracy, \"%\")\n",
    "        elif choice2 == \"2\":\n",
    "            model = LogisticRegression(random_state=42)\n",
    "            # Fit the model to the training data\n",
    "            model.fit(X_train, y_train)\n",
    "            # Make predictions on the test set\n",
    "            predicted_labels = model.predict(X_test)\n",
    "            cm = confusion_matrix(y_test, predicted_labels)\n",
    "            plt.figure(figsize=(8, 6))\n",
    "            sns.heatmap(cm, annot=True, fmt=\"d\", cmap=\"Blues\", \n",
    "                        xticklabels=[\"Predicted 0\", \"Predicted 1\"],\n",
    "                        yticklabels=[\"Actual 0\", \"Actual 1\"])\n",
    "            plt.xlabel('Predicted')\n",
    "            plt.ylabel('Actual')\n",
    "            plt.title('Confusion Matrix - Logestic Rreegression')\n",
    "            plt.show()\n",
    "            accuracy = format((np.mean(predicted_labels == y_test)*100),\".6f\")\n",
    "            print(\"\\nTraditional Logestic Accuracy:\", accuracy, \"%\")\n",
    "        elif choice2 == \"3\":\n",
    "            KN = int(input(\"Enter Deapth: \"))\n",
    "\n",
    "            dt_classifier = DecisionTreeClassifier(max_depth=KN)\n",
    "            # Fit the model to the training data\n",
    "            dt_classifier.fit(X_train, y_train)\n",
    "            # Make predictions on the test set\n",
    "            predicted_labels = dt_classifier.predict(X_test)\n",
    "            cm = confusion_matrix(y_test, predicted_labels)\n",
    "            plt.figure(figsize=(8, 6))\n",
    "            sns.heatmap(cm, annot=True, fmt=\"d\", cmap=\"Blues\", \n",
    "                        xticklabels=[\"Predicted 0\", \"Predicted 1\"],\n",
    "                        yticklabels=[\"Actual 0\", \"Actual 1\"])\n",
    "            plt.xlabel('Predicted')\n",
    "            plt.ylabel('Actual')\n",
    "            plt.title('Confusion Matrix - Decision Tree')\n",
    "            plt.show()\n",
    "            accuracy = format((np.mean(predicted_labels == y_test)*100),\".6f\")\n",
    "            print(\"\\nTraditional Decision Tree Classifier Accuracy:\", accuracy, \"%\")\n",
    "        else:\n",
    "            print(\"\\nInvalid choice. Please try again.\")\n",
    "#--------------------------------------------------------------------------------------------------------------------------------\n",
    "#Comarision\n",
    "    elif choice == \"4\":\n",
    "        print(\"\\n Choose compair\")\n",
    "        print(\"1. Bagging\")\n",
    "        print(\"2. Boosting\")\n",
    "        choice2 = input(\"\\n Enter your choice: \")\n",
    "        if choice2 == \"1\":\n",
    "            baggingc=[]\n",
    "            KKN = int(input(\"Enter K: \"))\n",
    "            nbag= int(input(\"Enter num of bags: \"))\n",
    "            predicted_labels = [knn1(X_train, y_train, d, KKN) for d in X_test]\n",
    "            predicted_labels1 =  [predicted_labels[i][1] for i in range(len(predicted_labels))]\n",
    "            baggingc.append((np.mean(predicted_labels1 == y_test)*100))\n",
    "            \n",
    "            bagged_predictions = bagging_FUNC(X_train, X_test, y_train, KKN, nbag)\n",
    "            bagged_predictions = np.array(bagged_predictions)\n",
    "            bagged_predictions = bagged_predictions.astype(int)\n",
    "            baggingc.append(np.mean(bagged_predictions == y_test)*100)\n",
    "            \n",
    "            model = LogisticRegression(random_state=42)\n",
    "            model.fit(X_train, y_train)\n",
    "            predicted_labelsl = model.predict(X_test)\n",
    "            baggingc.append(np.mean(predicted_labelsl == y_test)*100)\n",
    "            \n",
    "            bagged_predictionsl = bagging_FUNC(X_train, X_test, y_train, 0, nbag)\n",
    "            baggingc.append(np.mean(bagged_predictionsl == y_test)*100)\n",
    "            \n",
    "            labels = ['KNN', 'Bagging KNN', 'Logistic Regression', 'Bagging Logistic Regression']\n",
    "            colors = ['purple', 'purple', 'green', 'green']\n",
    "            plt.figure(figsize=(10, 6))\n",
    "            # Create an array of indices for the x-axis\n",
    "            x = np.arange(len(labels))\n",
    "            # Create the bar graph\n",
    "            plt.bar(x, baggingc, width=0.4, align='center', tick_label=labels, color=colors)\n",
    "            # Set the y-axis label\n",
    "            plt.ylabel('Accuracy (%)')\n",
    "            # Set a title for the graph\n",
    "            plt.title('Comparison of Different Models with Bagging')\n",
    "            # Show the graph\n",
    "            plt.show()\n",
    "            \n",
    "        elif choice2 == \"2\":\n",
    "            boostc=[]\n",
    "            estimators_boost = int(input(\"Enter number of Estimators: \"))\n",
    "            KN = int(input(\"Enter Deapth for Decision Tree: \"))\n",
    "            dt_classifier = DecisionTreeClassifier(max_depth=KN)\n",
    "            dt_classifier.fit(X_train, y_train)\n",
    "            predicted_labels = dt_classifier.predict(X_test)\n",
    "            boostc.append(np.mean(predicted_labels == y_test)*100)\n",
    "            \n",
    "            adaboost_classifier = AdaBoostClassifier(base_estimator=dt_classifier, n_estimators=estimators_boost)\n",
    "            adaboost_classifier.fit(X_train, y_train)\n",
    "            boostc.append(adaboost_classifier.score(X_test, y_test)*100)\n",
    "            \n",
    "            model = LogisticRegression(random_state=42)\n",
    "            model.fit(X_train, y_train)\n",
    "            predicted_labelsl = model.predict(X_test)\n",
    "            boostc.append(np.mean(predicted_labelsl == y_test)*100)\n",
    "            \n",
    "            adaboost_classifierl = AdaBoostClassifier(base_estimator=model, n_estimators=estimators_boost)\n",
    "            adaboost_classifierl.fit(X_train, y_train)\n",
    "            boostc.append(adaboost_classifierl.score(X_test, y_test)*100)\n",
    "            \n",
    "            labels = ['Decision Tree', 'AdaBoost Decision Tree', 'Logistic Regression', 'AdaBoost Logistic Regression']\n",
    "            colors = ['purple', 'purple', 'green', 'green']\n",
    "            # Create an array of indices for the x-axis\n",
    "            \n",
    "            x = np.arange(len(labels))\n",
    "            plt.figure(figsize=(10, 6))\n",
    "            # Create the bar graph\n",
    "            plt.bar(x, boostc, width=0.4, align='center', tick_label=labels, color=colors)\n",
    "           \n",
    "            # Set the y-axis label\n",
    "            \n",
    "            plt.ylabel('Accuracy (%)')\n",
    "            # Set a title for the graph\n",
    "            plt.title('Comparison of Different Models with AdaBoost')\n",
    "            # Show the graph\n",
    "            plt.show()\n",
    "        else:\n",
    "            print(\"\\nInvalid choice. Please try again.\")\n",
    "#--------------------------------------------------------------------------------------------------------------------------------\n",
    "#Exit\n",
    "    elif choice == \"5\":\n",
    "        print(\"\\nThank You.\")\n",
    "        break\n",
    "#---------------------------------------------------------------------------------------------------------------------------------\n",
    "#Invalid choice\n",
    "    else:\n",
    "        print(\"\\nInvalid choice. Please try again.\")\n",
    "        "
   ]
  }
 ],
 "metadata": {
  "kernelspec": {
   "display_name": "Python 3 (ipykernel)",
   "language": "python",
   "name": "python3"
  },
  "language_info": {
   "codemirror_mode": {
    "name": "ipython",
    "version": 3
   },
   "file_extension": ".py",
   "mimetype": "text/x-python",
   "name": "python",
   "nbconvert_exporter": "python",
   "pygments_lexer": "ipython3",
   "version": "3.9.12"
  }
 },
 "nbformat": 4,
 "nbformat_minor": 4
}
